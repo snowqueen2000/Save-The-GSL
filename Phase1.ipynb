{
 "cells": [
  {
   "attachments": {},
   "cell_type": "markdown",
   "metadata": {},
   "source": [
    "HydroShare GSL Info includes area volume data, lake level, volume, gsl basin digital elevation model, and bathymetry (underwater depths)\n",
    "\n",
    "Citation for HydroShareGSLInfo: Tarboton, D. (2022). Collection of Great Salt Lake Data, HydroShare, http://www.hydroshare.org/resource/b6c4fcad40c64c4cb4dd7d4a25d0db6e"
   ]
  },
  {
   "attachments": {},
   "cell_type": "markdown",
   "metadata": {},
   "source": [
    "# Names:\n",
    "Audrey Pohl, u0497618@utah.edu, u0497618 \n",
    "\n",
    "Clarissa Seebohm, u0575630@utah.edu, u0575630 \n",
    "\n",
    "Joseph Wirthlin, u0936690@utah.edu, u0935590 "
   ]
  },
  {
   "attachments": {},
   "cell_type": "markdown",
   "metadata": {},
   "source": [
    "# Project Description\n",
    "We all enjoy outdoor activities in Salt Lake City such as skiing, hiking, and camping in the wilderness surrounding Salt Lake City. For this reason, we value the Great Salt Lake for its contribution to the local ecosystem. With increased snowfall this winter, we are curious how much it will impact the level of the Salt Lake. Snowfall isn’t the only factor that can impact the water level. We will also analyze the factors of rainfall, total precipitation, and water usage in order to answer the following questions: Do rainfall and snowfall have different effects on water levels of the GSL? Does precipitation have a significant effect on water levels of GSL or is more water diverted in wet months/years that reduce the effects on water levels?  Does precipitation or water usage have a more significant effect on water levels? We hope that this could provide insight on how the state of Utah needs to manage its water to accomplish various goals. Discovering the impacts of different factors on the levels of the GSL could also reveal changes that need to happen to preserve the local ecosystem.  "
   ]
  },
  {
   "cell_type": "code",
   "execution_count": 27,
   "metadata": {},
   "outputs": [
    {
     "name": "stdout",
     "output_type": "stream",
     "text": [
      "Water Year    1979.0\n",
      "Jan              NaN\n",
      "Jan.1            NaN\n",
      "Jan.2           10.1\n",
      "Feb              NaN\n",
      "Feb.1            NaN\n",
      "Feb.2           13.8\n",
      "Mar              NaN\n",
      "Mar.1            NaN\n",
      "Mar.2           18.3\n",
      "Apr              NaN\n",
      "Apr.1            NaN\n",
      "Apr.2           18.6\n",
      "May              NaN\n",
      "May.1            NaN\n",
      "May.2            0.0\n",
      "Jun              NaN\n",
      "Jun.1            NaN\n",
      "Jun.2            0.0\n",
      "Name: 1, dtype: object\n"
     ]
    }
   ],
   "source": [
    "#Data and data description\n",
    "import pandas as pd \n",
    "lake_levels = pd.read_csv('monthly', sep = '\\t', comment = '#')\n",
    "alta_snow = pd.read_csv('Alta Central.txt', comment = '#')\n",
    "bear_snow = pd.read_csv('Little Bear.txt', comment = '#')\n"
   ]
  },
  {
   "attachments": {},
   "cell_type": "markdown",
   "metadata": {},
   "source": [
    "# Ethical Data Concerns\n",
    "We want to make sure that the data that we use will not cause harm to any stakeholders. In order to do so, we have identified the primary stakeholders related to this research are: Utah residents, the Utah government and policymakers, and Utah agriculture and watershed reliant businesses. In order to prevent causing any harm to any individual stakeholder, we have decided to use water usage data on a state level so as not to unintentionally put blame on any types of water users. This is because some research that has been done in the past has left certain stakeholders feeling as if they are receiving a disproportionate amount of the blame and are under increasing pressure to decrease water use as a result of that research. We want to avoid this, so our data will not breakdown any type of water user to protect those stakeholders from experiencing something similar.  "
   ]
  },
  {
   "attachments": {},
   "cell_type": "markdown",
   "metadata": {},
   "source": [
    "# Methods"
   ]
  },
  {
   "cell_type": "code",
   "execution_count": 28,
   "metadata": {},
   "outputs": [],
   "source": [
    "#preliminary results"
   ]
  },
  {
   "attachments": {},
   "cell_type": "markdown",
   "metadata": {},
   "source": [
    "# Peer Review\n",
    "Amit Galatzer, Dasha Romanova, Justin Schwendiman \n",
    "\n",
    "One of the main concerns that was brought up during this conversation was to make sure that we have a large enough sample size. We were considering using monthly data which would only give us 12 observations for each year that we use. Originally, we were considering only using about 10 years of data but this would only give us 120 observations. For that reason, it was brought up that we should use many more years to get a larger sample size that will aid us in finding more interesting results. \n",
    "\n",
    "It was also mentioned that it could be interesting to include variables such as population growth or GDP growth to capture any effect of water usage that these types of events may cause. This would be able to create a better analysis because it would weed out some other important factors that could also be contributing to the lake levels. "
   ]
  },
  {
   "attachments": {},
   "cell_type": "markdown",
   "metadata": {},
   "source": [
    "# Milestones Completed"
   ]
  },
  {
   "attachments": {},
   "cell_type": "markdown",
   "metadata": {},
   "source": [
    "# Upcoming Milestones"
   ]
  },
  {
   "attachments": {},
   "cell_type": "markdown",
   "metadata": {},
   "source": [
    "# Potential Modifications"
   ]
  },
  {
   "attachments": {},
   "cell_type": "markdown",
   "metadata": {},
   "source": [
    "# Project Summary "
   ]
  }
 ],
 "metadata": {
  "kernelspec": {
   "display_name": "base",
   "language": "python",
   "name": "python3"
  },
  "language_info": {
   "codemirror_mode": {
    "name": "ipython",
    "version": 3
   },
   "file_extension": ".py",
   "mimetype": "text/x-python",
   "name": "python",
   "nbconvert_exporter": "python",
   "pygments_lexer": "ipython3",
   "version": "3.9.13"
  },
  "orig_nbformat": 4
 },
 "nbformat": 4,
 "nbformat_minor": 2
}
