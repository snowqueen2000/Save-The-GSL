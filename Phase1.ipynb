{
 "cells": [
  {
   "attachments": {},
   "cell_type": "markdown",
   "metadata": {},
   "source": [
    "HydroShare GSL Info includes area volume data, lake level, volume, gsl basin digital elevation model, and bathymetry (underwater depths)\n",
    "\n",
    "Citation for HydroShareGSLInfo: Tarboton, D. (2022). Collection of Great Salt Lake Data, HydroShare, http://www.hydroshare.org/resource/b6c4fcad40c64c4cb4dd7d4a25d0db6e"
   ]
  },
  {
   "attachments": {},
   "cell_type": "markdown",
   "metadata": {},
   "source": [
    "# Names:\n",
    "Audrey Pohl, u0497618@utah.edu, u0497618 \n",
    "\n",
    "Clarissa Seebohm, u0575630@utah.edu, u0575630 \n",
    "\n",
    "Joseph Wirthlin, u0936690@utah.edu, u0935590 "
   ]
  },
  {
   "attachments": {},
   "cell_type": "markdown",
   "metadata": {},
   "source": [
    "# Project Description\n",
    "We all enjoy outdoor activities in Salt Lake City such as skiing, hiking, and camping in the wilderness surrounding Salt Lake City. For this reason, we value the Great Salt Lake for its contribution to the local ecosystem. With increased snowfall this winter, we are curious how much it will impact the level of the Salt Lake. Snowfall isn’t the only factor that can impact the water level. We will also analyze the factors of rainfall, total precipitation, and water usage in order to answer the following questions: Do rainfall and snowfall have different effects on water levels of the GSL? Does precipitation have a significant effect on water levels of GSL or is more water diverted in wet months/years that reduce the effects on water levels?  Does precipitation or water usage have a more significant effect on water levels? We hope that this could provide insight on how the state of Utah needs to manage its water to accomplish various goals. Discovering the impacts of different factors on the levels of the GSL could also reveal changes that need to happen to preserve the local ecosystem.  "
   ]
  },
  {
   "cell_type": "code",
   "execution_count": 66,
   "metadata": {},
   "outputs": [
    {
     "name": "stdout",
     "output_type": "stream",
     "text": [
      "      date  1981  1982  1983  1984  1985  1986  1987  1988  1989  ...  2023  \\\n",
      "345  09-10   0.0   0.0   0.0   0.0   0.0   0.0   0.0   0.0   0.0  ...   NaN   \n",
      "346  09-11   0.0   0.0   0.0   0.0   0.0   0.0   0.0   0.0   0.0  ...   NaN   \n",
      "347  09-12   0.0   0.0   0.0   0.0   0.1   0.0   0.0   0.0   0.0  ...   NaN   \n",
      "348  09-13   0.0   0.0   0.0   0.0   0.1   0.0   0.0   0.0   0.0  ...   NaN   \n",
      "349  09-14   0.0   0.1   0.0   0.0   0.1   0.0   0.0   0.0   0.0  ...   NaN   \n",
      "350  09-15   0.0   0.1   0.0   0.0   0.0   0.0   0.0   0.0   0.0  ...   NaN   \n",
      "351  09-16   0.0   0.1   0.0   0.0   0.0   0.0   0.0   0.0   0.0  ...   NaN   \n",
      "352  09-17   0.0   0.0   0.0   0.0   0.0   0.0   0.0   0.0   0.0  ...   NaN   \n",
      "353  09-18   0.0   0.0   0.0   0.0   0.0   0.0   0.0   0.0   0.0  ...   NaN   \n",
      "354  09-19   0.0   0.0   0.0   0.0   0.1   0.0   0.0   0.0   0.0  ...   NaN   \n",
      "355  09-20   0.0   0.0   0.0   0.0   0.1   0.0   0.0   0.0   0.0  ...   NaN   \n",
      "356  09-21   0.0   0.0   0.0   0.0   0.1   0.0   0.0   0.0   0.0  ...   NaN   \n",
      "357  09-22   0.0   0.0   0.0   0.0   0.1   0.0   0.0   0.0   0.0  ...   NaN   \n",
      "358  09-23   0.0   0.0   0.0   0.0   0.1   0.1   0.0   0.0   0.0  ...   NaN   \n",
      "359  09-24   0.0   0.0   0.0   0.2   0.1   0.1   0.0   0.0   0.0  ...   NaN   \n",
      "360  09-25   0.0   0.0   0.0   0.3   0.1   0.5   0.0   0.0   0.0  ...   NaN   \n",
      "361  09-26   0.0   0.0   0.0   0.2   0.0   0.8   0.0   0.0   0.0  ...   NaN   \n",
      "362  09-27   0.0   0.1   0.0   0.2   0.0   1.0   0.0   0.0   0.0  ...   NaN   \n",
      "363  09-28   0.0   0.2   0.0   0.1   0.0   1.1   0.0   0.0   0.0  ...   NaN   \n",
      "364  09-29   0.0   0.6   0.0   0.1   0.0   1.1   0.0   0.0   0.0  ...   NaN   \n",
      "365  09-30   0.0   1.1   0.0   0.1   0.0   1.1   0.0   0.0   0.0  ...   NaN   \n",
      "\n",
      "     Min  10%  30%  70%  90%  Max  Median ('91-'20)  Median (POR)  \\\n",
      "345  0.0  0.0  0.0  0.0  0.0  0.0               0.0           0.0   \n",
      "346  0.0  0.0  0.0  0.0  0.0  0.0               0.0           0.0   \n",
      "347  0.0  0.0  0.0  0.0  0.0  0.1               0.0           0.0   \n",
      "348  0.0  0.0  0.0  0.0  0.0  0.1               0.0           0.0   \n",
      "349  0.0  0.0  0.0  0.0  0.0  0.1               0.0           0.0   \n",
      "350  0.0  0.0  0.0  0.0  0.0  0.1               0.0           0.0   \n",
      "351  0.0  0.0  0.0  0.0  0.0  0.1               0.0           0.0   \n",
      "352  0.0  0.0  0.0  0.0  0.0  0.2               0.0           0.0   \n",
      "353  0.0  0.0  0.0  0.0  0.0  0.2               0.0           0.0   \n",
      "354  0.0  0.0  0.0  0.0  0.0  0.1               0.0           0.0   \n",
      "355  0.0  0.0  0.0  0.0  0.0  0.1               0.0           0.0   \n",
      "356  0.0  0.0  0.0  0.0  0.0  0.1               0.0           0.0   \n",
      "357  0.0  0.0  0.0  0.0  0.0  0.2               0.0           0.0   \n",
      "358  0.0  0.0  0.0  0.0  0.1  0.4               0.0           0.0   \n",
      "359  0.0  0.0  0.0  0.0  0.2  0.3               0.0           0.0   \n",
      "360  0.0  0.0  0.0  0.0  0.2  0.5               0.0           0.0   \n",
      "361  0.0  0.0  0.0  0.0  0.1  0.8               0.0           0.0   \n",
      "362  0.0  0.0  0.0  0.0  0.1  1.0               0.0           0.0   \n",
      "363  0.0  0.0  0.0  0.0  0.1  1.1               0.0           0.0   \n",
      "364  0.0  0.0  0.0  0.0  0.1  1.1               0.0           0.0   \n",
      "365  0.0  0.0  0.0  0.0  0.1  1.1               0.0           0.0   \n",
      "\n",
      "     Median Peak SWE  \n",
      "345             15.8  \n",
      "346             15.8  \n",
      "347             15.8  \n",
      "348             15.8  \n",
      "349             15.8  \n",
      "350             15.8  \n",
      "351             15.8  \n",
      "352             15.8  \n",
      "353             15.8  \n",
      "354             15.8  \n",
      "355             15.8  \n",
      "356             15.8  \n",
      "357             15.8  \n",
      "358             15.8  \n",
      "359             15.8  \n",
      "360             15.8  \n",
      "361             15.8  \n",
      "362             15.8  \n",
      "363             15.8  \n",
      "364             15.8  \n",
      "365             15.8  \n",
      "\n",
      "[21 rows x 53 columns]\n"
     ]
    }
   ],
   "source": [
    "#Data and data description\n",
    "import pandas as pd \n",
    "lake_levels = pd.read_csv('monthly', sep = '\\t', comment = '#')\n",
    "snow_water = pd.read_csv('state_of_utah_snow_water.csv')\n",
    "\n",
    "#snow_water_av = []\n",
    "october_snow = snow_water.loc[:30]\n",
    "november_snow = snow_water.loc[31:60]\n",
    "december_snow = snow_water.loc[61:91]\n",
    "january_snow = snow_water.loc[92:122]\n",
    "february_snow = snow_water.loc[124:151]\n",
    "march_snow = snow_water.loc[152:182]\n",
    "april_snow = snow_water.loc[183:212]\n",
    "may_snow = snow_water.loc[213:243]\n",
    "june_snow = snow_water.loc[244:273]\n",
    "july_snow = snow_water.loc[274:304]\n",
    "august_snow = snow_water.loc[305:334]\n",
    "september_snow = snow_water.loc[335:365]\n"
   ]
  },
  {
   "attachments": {},
   "cell_type": "markdown",
   "metadata": {},
   "source": [
    "# Ethical Data Concerns\n",
    "We want to make sure that the data that we use will not cause harm to any stakeholders. In order to do so, we have identified the primary stakeholders related to this research are: Utah residents, the Utah government and policymakers, and Utah agriculture and watershed reliant businesses. In order to prevent causing any harm to any individual stakeholder, we have decided to use water usage data on a state level so as not to unintentionally put blame on any types of water users. This is because some research that has been done in the past has left certain stakeholders feeling as if they are receiving a disproportionate amount of the blame and are under increasing pressure to decrease water use as a result of that research. We want to avoid this, so our data will not breakdown any type of water user to protect those stakeholders from experiencing something similar.  "
   ]
  },
  {
   "attachments": {},
   "cell_type": "markdown",
   "metadata": {},
   "source": [
    "# Methods"
   ]
  },
  {
   "cell_type": "code",
   "execution_count": null,
   "metadata": {},
   "outputs": [],
   "source": [
    "#preliminary results"
   ]
  },
  {
   "attachments": {},
   "cell_type": "markdown",
   "metadata": {},
   "source": [
    "# Peer Review\n",
    "Amit Galatzer, Dasha Romanova, Justin Schwendiman \n",
    "\n",
    "One of the main concerns that was brought up during this conversation was to make sure that we have a large enough sample size. We were considering using monthly data which would only give us 12 observations for each year that we use. Originally, we were considering only using about 10 years of data but this would only give us 120 observations. For that reason, it was brought up that we should use many more years to get a larger sample size that will aid us in finding more interesting results. \n",
    "\n",
    "It was also mentioned that it could be interesting to include variables such as population growth or GDP growth to capture any effect of water usage that these types of events may cause. This would be able to create a better analysis because it would weed out some other important factors that could also be contributing to the lake levels. "
   ]
  },
  {
   "attachments": {},
   "cell_type": "markdown",
   "metadata": {},
   "source": [
    "# Milestones Completed"
   ]
  },
  {
   "attachments": {},
   "cell_type": "markdown",
   "metadata": {},
   "source": [
    "# Upcoming Milestones"
   ]
  },
  {
   "attachments": {},
   "cell_type": "markdown",
   "metadata": {},
   "source": [
    "# Potential Modifications"
   ]
  },
  {
   "attachments": {},
   "cell_type": "markdown",
   "metadata": {},
   "source": [
    "# Project Summary "
   ]
  }
 ],
 "metadata": {
  "kernelspec": {
   "display_name": "base",
   "language": "python",
   "name": "python3"
  },
  "language_info": {
   "codemirror_mode": {
    "name": "ipython",
    "version": 3
   },
   "file_extension": ".py",
   "mimetype": "text/x-python",
   "name": "python",
   "nbconvert_exporter": "python",
   "pygments_lexer": "ipython3",
   "version": "3.9.13"
  },
  "orig_nbformat": 4
 },
 "nbformat": 4,
 "nbformat_minor": 2
}
