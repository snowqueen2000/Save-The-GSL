{
 "cells": [
  {
   "attachments": {},
   "cell_type": "markdown",
   "metadata": {},
   "source": [
    "HydroShare GSL Info includes area volume data, lake level, volume, gsl basin digital elevation model, and bathymetry (underwater depths)\n",
    "\n",
    "Citation for HydroShareGSLInfo: Tarboton, D. (2022). Collection of Great Salt Lake Data, HydroShare, http://www.hydroshare.org/resource/b6c4fcad40c64c4cb4dd7d4a25d0db6e"
   ]
  },
  {
   "attachments": {},
   "cell_type": "markdown",
   "metadata": {},
   "source": [
    "# Names:\n",
    "Audrey Pohl, u0497618@utah.edu, u0497618 \n",
    "\n",
    "Clarissa Seebohm, u0575630@utah.edu, u0575630 \n",
    "\n",
    "Joseph Wirthlin, u0936690@utah.edu, u0935590 "
   ]
  },
  {
   "attachments": {},
   "cell_type": "markdown",
   "metadata": {},
   "source": [
    "# Project Description\n",
    "We all enjoy outdoor activities in Salt Lake City such as skiing, hiking, and camping in the wilderness surrounding Salt Lake City. For this reason, we value the Great Salt Lake for its contribution to the local ecosystem. With increased snowfall this winter, we are curious how much it will impact the level of the Salt Lake. Snowfall isn’t the only factor that can impact the water level. We will also analyze the factors of rainfall, total precipitation, and water usage in order to answer the following questions: Do rainfall and snowfall have different effects on water levels of the GSL? Does precipitation have a significant effect on water levels of GSL or is more water diverted in wet months/years that reduce the effects on water levels?  Does precipitation or water usage have a more significant effect on water levels? We hope that this could provide insight on how the state of Utah needs to manage its water to accomplish various goals. Discovering the impacts of different factors on the levels of the GSL could also reveal changes that need to happen to preserve the local ecosystem.  "
   ]
  },
  {
   "cell_type": "code",
   "execution_count": null,
   "metadata": {
    "vscode": {
     "languageId": "plaintext"
    }
   },
   "outputs": [],
   "source": [
    "#Data and data description"
   ]
  },
  {
   "attachments": {},
   "cell_type": "markdown",
   "metadata": {},
   "source": [
    "# Ethical Data Concerns\n",
    "We want to make sure that the data that we use will not cause harm to any stakeholders. In order to do so, we have identified the primary stakeholders related to this research are: Utah residents, the Utah government and policymakers, and Utah agriculture and watershed reliant businesses. In order to prevent causing any harm to any individual stakeholder, we have decided to use water usage data on a state level so as not to unintentionally put blame on any types of water users. This is because some research that has been done in the past has left certain stakeholders feeling as if they are receiving a disproportionate amount of the blame and are under increasing pressure to decrease water use as a result of that research. We want to avoid this, so our data will not breakdown any type of water user to protect those stakeholders from experiencing something similar.  "
   ]
  },
  {
   "attachments": {},
   "cell_type": "markdown",
   "metadata": {},
   "source": [
    "# Methods"
   ]
  },
  {
   "cell_type": "code",
   "execution_count": null,
   "metadata": {
    "vscode": {
     "languageId": "plaintext"
    }
   },
   "outputs": [],
   "source": [
    "#preliminary results"
   ]
  },
  {
   "attachments": {},
   "cell_type": "markdown",
   "metadata": {},
   "source": [
    "# Peer Review\n",
    "Amit Galatzer, Dasha Romanova, Justin Schwendiman \n",
    "\n",
    "One of the main concerns that was brought up during this conversation was to make sure that we have a large enough sample size. We were considering using monthly data which would only give us 12 observations for each year that we use. Originally, we were considering only using about 10 years of data but this would only give us 120 observations. For that reason, it was brought up that we should use many more years to get a larger sample size that will aid us in finding more interesting results. \n",
    "\n",
    "It was also mentioned that it could be interesting to include variables such as population growth or GDP growth to capture any effect of water usage that these types of events may cause. This would be able to create a better analysis because it would weed out some other important factors that could also be contributing to the lake levels. "
   ]
  },
  {
   "attachments": {},
   "cell_type": "markdown",
   "metadata": {},
   "source": [
    "# Milestones Completed"
   ]
  },
  {
   "attachments": {},
   "cell_type": "markdown",
   "metadata": {},
   "source": [
    "# Upcoming Milestones"
   ]
  },
  {
   "attachments": {},
   "cell_type": "markdown",
   "metadata": {},
   "source": [
    "# Potential Modifications"
   ]
  },
  {
   "attachments": {},
   "cell_type": "markdown",
   "metadata": {},
   "source": [
    "# Project Summary "
   ]
  }
 ],
 "metadata": {
  "language_info": {
   "name": "python"
  },
  "orig_nbformat": 4
 },
 "nbformat": 4,
 "nbformat_minor": 2
}
