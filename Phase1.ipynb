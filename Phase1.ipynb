{
 "cells": [
  {
   "attachments": {},
   "cell_type": "markdown",
   "metadata": {},
   "source": [
    "HydroShare GSL Info includes area volume data, lake level, volume, gsl basin digital elevation model, and bathymetry (underwater depths)\n",
    "\n",
    "Citation for HydroShareGSLInfo: Tarboton, D. (2022). Collection of Great Salt Lake Data, HydroShare, http://www.hydroshare.org/resource/b6c4fcad40c64c4cb4dd7d4a25d0db6e"
   ]
  },
  {
   "attachments": {},
   "cell_type": "markdown",
   "metadata": {},
   "source": [
    "# Names:\n",
    "Audrey Pohl, u0497618@utah.edu, u0497618 \n",
    "\n",
    "Clarissa Seebohm, u0575630@utah.edu, u0575630 \n",
    "\n",
    "Joseph Wirthlin, u0936690@utah.edu, u0935590 "
   ]
  },
  {
   "attachments": {},
   "cell_type": "markdown",
   "metadata": {},
   "source": [
    "# Project Description <br>\n",
    "We all enjoy outdoor activities in Salt Lake City such as skiing, hiking, and camping in the wilderness surrounding Salt Lake City. For this reason, we value the Great Salt Lake for its contribution to the local ecosystem. With increased snowfall this winter, we are curious how much it will impact the level of the Salt Lake. Snowfall isn’t the only factor that can impact the water level. We will also analyze rainfall, total precipitation, snowfall, snow-water equivalent, and water usage in order to answer the following questions: Do rainfall and snowfall have different effects on water levels of the GSL? Does precipitation have a significant effect on water levels of GSL? Is more water diverted in wet years that reduce the effects on water levels?  Does precipitation or water usage have a more significant effect on water levels? We hope that these questions could provide insight on how the state of Utah needs to manage its water to preserve our ecosystem while supporting local business adequately. Discovering the impacts of different factors on the levels of the GSL could also reveal the most directly impactful ways to preserve the local ecosystem.  "
   ]
  },
  {
   "attachments": {},
   "cell_type": "markdown",
   "metadata": {},
   "source": [
    "# Data and Data Description <br>"
   ]
  },
  {
   "cell_type": "code",
   "execution_count": 70,
   "metadata": {},
   "outputs": [
    {
     "name": "stderr",
     "output_type": "stream",
     "text": [
      "/var/folders/hs/0cnj9f054qz555djc4yg9mbh0000gn/T/ipykernel_95791/2974521069.py:6: FutureWarning: Dropping of nuisance columns in DataFrame reductions (with 'numeric_only=None') is deprecated; in a future version this will raise TypeError.  Select only valid columns before calling the reduction.\n",
      "  october_snow = snow_water.loc[:30].mean()\n",
      "/var/folders/hs/0cnj9f054qz555djc4yg9mbh0000gn/T/ipykernel_95791/2974521069.py:7: FutureWarning: Dropping of nuisance columns in DataFrame reductions (with 'numeric_only=None') is deprecated; in a future version this will raise TypeError.  Select only valid columns before calling the reduction.\n",
      "  november_snow = snow_water.loc[31:60].mean()\n",
      "/var/folders/hs/0cnj9f054qz555djc4yg9mbh0000gn/T/ipykernel_95791/2974521069.py:8: FutureWarning: Dropping of nuisance columns in DataFrame reductions (with 'numeric_only=None') is deprecated; in a future version this will raise TypeError.  Select only valid columns before calling the reduction.\n",
      "  december_snow = snow_water.loc[61:91].mean()\n",
      "/var/folders/hs/0cnj9f054qz555djc4yg9mbh0000gn/T/ipykernel_95791/2974521069.py:9: FutureWarning: Dropping of nuisance columns in DataFrame reductions (with 'numeric_only=None') is deprecated; in a future version this will raise TypeError.  Select only valid columns before calling the reduction.\n",
      "  january_snow = snow_water.loc[92:122].mean()\n",
      "/var/folders/hs/0cnj9f054qz555djc4yg9mbh0000gn/T/ipykernel_95791/2974521069.py:10: FutureWarning: Dropping of nuisance columns in DataFrame reductions (with 'numeric_only=None') is deprecated; in a future version this will raise TypeError.  Select only valid columns before calling the reduction.\n",
      "  february_snow = snow_water.loc[124:151].mean()\n",
      "/var/folders/hs/0cnj9f054qz555djc4yg9mbh0000gn/T/ipykernel_95791/2974521069.py:11: FutureWarning: Dropping of nuisance columns in DataFrame reductions (with 'numeric_only=None') is deprecated; in a future version this will raise TypeError.  Select only valid columns before calling the reduction.\n",
      "  march_snow = snow_water.loc[152:182].mean()\n",
      "/var/folders/hs/0cnj9f054qz555djc4yg9mbh0000gn/T/ipykernel_95791/2974521069.py:12: FutureWarning: Dropping of nuisance columns in DataFrame reductions (with 'numeric_only=None') is deprecated; in a future version this will raise TypeError.  Select only valid columns before calling the reduction.\n",
      "  april_snow = snow_water.loc[183:212].mean()\n",
      "/var/folders/hs/0cnj9f054qz555djc4yg9mbh0000gn/T/ipykernel_95791/2974521069.py:13: FutureWarning: Dropping of nuisance columns in DataFrame reductions (with 'numeric_only=None') is deprecated; in a future version this will raise TypeError.  Select only valid columns before calling the reduction.\n",
      "  may_snow = snow_water.loc[213:243].mean()\n",
      "/var/folders/hs/0cnj9f054qz555djc4yg9mbh0000gn/T/ipykernel_95791/2974521069.py:14: FutureWarning: Dropping of nuisance columns in DataFrame reductions (with 'numeric_only=None') is deprecated; in a future version this will raise TypeError.  Select only valid columns before calling the reduction.\n",
      "  june_snow = snow_water.loc[244:273].mean()\n",
      "/var/folders/hs/0cnj9f054qz555djc4yg9mbh0000gn/T/ipykernel_95791/2974521069.py:15: FutureWarning: Dropping of nuisance columns in DataFrame reductions (with 'numeric_only=None') is deprecated; in a future version this will raise TypeError.  Select only valid columns before calling the reduction.\n",
      "  july_snow = snow_water.loc[274:304].mean()\n",
      "/var/folders/hs/0cnj9f054qz555djc4yg9mbh0000gn/T/ipykernel_95791/2974521069.py:16: FutureWarning: Dropping of nuisance columns in DataFrame reductions (with 'numeric_only=None') is deprecated; in a future version this will raise TypeError.  Select only valid columns before calling the reduction.\n",
      "  august_snow = snow_water.loc[305:334].mean()\n",
      "/var/folders/hs/0cnj9f054qz555djc4yg9mbh0000gn/T/ipykernel_95791/2974521069.py:17: FutureWarning: Dropping of nuisance columns in DataFrame reductions (with 'numeric_only=None') is deprecated; in a future version this will raise TypeError.  Select only valid columns before calling the reduction.\n",
      "  september_snow = snow_water.loc[335:365].mean()\n"
     ]
    },
    {
     "data": {
      "text/plain": [
       "[1981                 0.416129\n",
       " 1982                 0.767742\n",
       " 1983                 1.041935\n",
       " 1984                 0.077419\n",
       " 1985                 0.922581\n",
       " 1986                 0.422581\n",
       " 1987                 0.996774\n",
       " 1988                 0.022581\n",
       " 1989                 0.000000\n",
       " 1990                 0.119355\n",
       " 1991                 0.112903\n",
       " 1992                 0.235484\n",
       " 1993                 0.035484\n",
       " 1994                 0.229032\n",
       " 1995                 0.558065\n",
       " 1996                 0.096774\n",
       " 1997                 0.425806\n",
       " 1998                 0.325806\n",
       " 1999                 0.209677\n",
       " 2000                 0.006452\n",
       " 2001                 0.354839\n",
       " 2002                 0.048387\n",
       " 2003                 0.190323\n",
       " 2004                 0.003226\n",
       " 2005                 0.961290\n",
       " 2006                 0.032258\n",
       " 2007                 0.296774\n",
       " 2008                 0.203226\n",
       " 2009                 0.064516\n",
       " 2010                 0.283871\n",
       " 2011                 0.200000\n",
       " 2012                 0.312903\n",
       " 2013                 0.167742\n",
       " 2014                 0.225806\n",
       " 2015                 0.000000\n",
       " 2016                 0.006452\n",
       " 2017                 0.087097\n",
       " 2018                 0.041935\n",
       " 2019                 0.374194\n",
       " 2020                 0.241935\n",
       " 2021                 0.022581\n",
       " 2022                 0.470968\n",
       " 2023                 0.241935\n",
       " Min                  0.000000\n",
       " 10%                  0.000000\n",
       " 30%                  0.032258\n",
       " 70%                  0.322581\n",
       " 90%                  0.687097\n",
       " Max                  1.761290\n",
       " Median ('91-'20)     0.038710\n",
       " Median (POR)         0.129032\n",
       " Median Peak SWE     15.800000\n",
       " dtype: float64,\n",
       " 1981                 1.303333\n",
       " 1982                 2.026667\n",
       " 1983                 3.090000\n",
       " 1984                 1.936667\n",
       " 1985                 4.263333\n",
       " 1986                 2.860000\n",
       " 1987                 1.946667\n",
       " 1988                 1.090000\n",
       " 1989                 1.466667\n",
       " 1990                 1.026667\n",
       " 1991                 1.236667\n",
       " 1992                 2.466667\n",
       " 1993                 2.363333\n",
       " 1994                 0.996667\n",
       " 1995                 2.473333\n",
       " 1996                 0.940000\n",
       " 1997                 3.133333\n",
       " 1998                 1.573333\n",
       " 1999                 1.910000\n",
       " 2000                 0.240000\n",
       " 2001                 2.643333\n",
       " 2002                 0.776667\n",
       " 2003                 1.796667\n",
       " 2004                 2.000000\n",
       " 2005                 4.300000\n",
       " 2006                 0.980000\n",
       " 2007                 1.633333\n",
       " 2008                 0.290000\n",
       " 2009                 0.906667\n",
       " 2010                 0.903333\n",
       " 2011                 2.046667\n",
       " 2012                 1.643333\n",
       " 2013                 1.416667\n",
       " 2014                 1.410000\n",
       " 2015                 1.096667\n",
       " 2016                 1.203333\n",
       " 2017                 0.460000\n",
       " 2018                 0.843333\n",
       " 2019                 0.880000\n",
       " 2020                 1.260000\n",
       " 2021                 1.256667\n",
       " 2022                 0.733333\n",
       " 2023                 2.796667\n",
       " Min                  0.136667\n",
       " 10%                  0.550000\n",
       " 30%                  1.040000\n",
       " 70%                  1.906667\n",
       " 90%                  3.020000\n",
       " Max                  4.610000\n",
       " Median ('91-'20)     1.206667\n",
       " Median (POR)         1.426667\n",
       " Median Peak SWE     15.800000\n",
       " dtype: float64]"
      ]
     },
     "execution_count": 70,
     "metadata": {},
     "output_type": "execute_result"
    }
   ],
   "source": [
    "import pandas as pd \n",
    "lake_levels = pd.read_csv('monthly', sep = '\\t', comment = '#') \n",
    "snow_water = pd.read_csv('state_of_utah_snow_water.csv') # snow water equivalent\n",
    "\n",
    "october_snow = snow_water.loc[:30].mean()\n",
    "november_snow = snow_water.loc[31:60].mean()\n",
    "december_snow = snow_water.loc[61:91].mean()\n",
    "january_snow = snow_water.loc[92:122].mean()\n",
    "february_snow = snow_water.loc[124:151].mean()\n",
    "march_snow = snow_water.loc[152:182].mean()\n",
    "april_snow = snow_water.loc[183:212].mean()\n",
    "may_snow = snow_water.loc[213:243].mean()\n",
    "june_snow = snow_water.loc[244:273].mean()\n",
    "july_snow = snow_water.loc[274:304].mean()\n",
    "august_snow = snow_water.loc[305:334].mean()\n",
    "september_snow = snow_water.loc[335:365].mean()\n"
   ]
  },
  {
   "attachments": {},
   "cell_type": "markdown",
   "metadata": {},
   "source": [
    "The `lake_levels` variable comes from a United States Geological Survey (USGS) database of monthly Great Salt Lake water elevations. The values are monthly averages of the surface elevation of the lake in feet from sea level. The dataset has monthly data from October of 1989 to November of 2022. \n",
    "<br>\n",
    "<br>\n",
    "The `snow_water` variable comes from (fill this in)\n"
   ]
  },
  {
   "attachments": {},
   "cell_type": "markdown",
   "metadata": {},
   "source": [
    "# Ethical Data Concerns\n",
    "We want to make sure that the data that we use will not cause harm to any stakeholders. In order to do so, we have identified the primary stakeholders related to this research are: Utah residents, the Utah government and policymakers, and Utah agriculture and watershed-reliant businesses. In order to prevent causing any harm to any individual stakeholder, we have decided to use water usage data on a state level so as not to unintentionally put blame on any types of water users. This is because some research that has been done in the past has left certain stakeholders feeling as if they are receiving a disproportionate amount of the blame and are under increasing pressure to decrease water use as a result of that research. We want to avoid this, so our data will not breakdown any type of water user to protect those stakeholders from experiencing something similar.  "
   ]
  },
  {
   "attachments": {},
   "cell_type": "markdown",
   "metadata": {},
   "source": [
    "# Methods"
   ]
  },
  {
   "cell_type": "code",
   "execution_count": null,
   "metadata": {},
   "outputs": [],
   "source": [
    "#preliminary results"
   ]
  },
  {
   "attachments": {},
   "cell_type": "markdown",
   "metadata": {},
   "source": [
    "# Peer Review\n",
    "Amit Galatzer, Dasha Romanova, Justin Schwendiman \n",
    "\n",
    "One of the main concerns that was brought up during this conversation was to make sure that we have a large enough sample size. We were considering using monthly data which would only give us 12 observations for each year that we use. Originally, we were considering only using about 10 years of data but this would only give us 120 observations. For that reason, it was brought up that we should use many more years to get a larger sample size that will aid us in finding more interesting trends. \n",
    "\n",
    "It was also mentioned that it could be interesting to include variables such as population growth or GDP growth to capture any effect of water usage that these types of events may cause. This would be able to create a better analysis because it would weed out some other important factors that could also be contributing to the lake levels. "
   ]
  },
  {
   "attachments": {},
   "cell_type": "markdown",
   "metadata": {},
   "source": [
    "# Milestones Completed"
   ]
  },
  {
   "attachments": {},
   "cell_type": "markdown",
   "metadata": {},
   "source": [
    "# Upcoming Milestones"
   ]
  },
  {
   "attachments": {},
   "cell_type": "markdown",
   "metadata": {},
   "source": [
    "# Potential Modifications"
   ]
  },
  {
   "attachments": {},
   "cell_type": "markdown",
   "metadata": {},
   "source": [
    "# Project Summary "
   ]
  }
 ],
 "metadata": {
  "kernelspec": {
   "display_name": "base",
   "language": "python",
   "name": "python3"
  },
  "language_info": {
   "codemirror_mode": {
    "name": "ipython",
    "version": 3
   },
   "file_extension": ".py",
   "mimetype": "text/x-python",
   "name": "python",
   "nbconvert_exporter": "python",
   "pygments_lexer": "ipython3",
   "version": "3.9.13"
  },
  "orig_nbformat": 4
 },
 "nbformat": 4,
 "nbformat_minor": 2
}
