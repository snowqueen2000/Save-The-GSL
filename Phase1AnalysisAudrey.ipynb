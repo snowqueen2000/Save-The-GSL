{
 "cells": [
  {
   "attachments": {},
   "cell_type": "markdown",
   "metadata": {},
   "source": [
    "# Change in Lake Level Data"
   ]
  },
  {
   "cell_type": "code",
   "execution_count": 19,
   "metadata": {},
   "outputs": [],
   "source": [
    "# Change in Lake Level Data\n",
    "import datetime as dt\n",
    "import pandas as pd\n",
    "import numpy as np\n",
    "from matplotlib import pyplot as plt\n",
    "\n",
    "lake_levels = pd.read_csv('monthly', sep = '\\t', comment = '#') \n",
    "\n",
    "# adding timestamp to level readings\n",
    "def populate_lake_datetime(data, df):\n",
    "    for i in range(len(data)-1):\n",
    "        temp = pd.DataFrame([[dt.date(int(data['year_nu'][i+1]),int(data['month_nu'][i+1]),20), float(data['mean_va'][i+1])]],columns=['date','lake_level'])\n",
    "        df = pd.concat([df,temp], ignore_index=True)\n",
    "    return df\n",
    "\n",
    "lk_lvl = pd.DataFrame(columns=['date','lake_level'])\n",
    "lk_lvl = populate_lake_datetime(lake_levels, lk_lvl)\n",
    "\n",
    "# Percent change and derivative look the exact same, just different numbers\n",
    "pct_chng = lk_lvl['lake_level'].pct_change()*100 # % change between data points\n",
    "#plt.plot(lk_lvl['date'], pct_chng)\n",
    "#plt.show()\n",
    "\n",
    "deriv = lk_lvl['lake_level'].diff()\n",
    "#plt.plot(lk_lvl['date'], deriv)\n",
    "#plt.show()\n",
    "\n"
   ]
  }
 ],
 "metadata": {
  "kernelspec": {
   "display_name": "base",
   "language": "python",
   "name": "python3"
  },
  "language_info": {
   "codemirror_mode": {
    "name": "ipython",
    "version": 3
   },
   "file_extension": ".py",
   "mimetype": "text/x-python",
   "name": "python",
   "nbconvert_exporter": "python",
   "pygments_lexer": "ipython3",
   "version": "3.9.7"
  },
  "orig_nbformat": 4
 },
 "nbformat": 4,
 "nbformat_minor": 2
}
