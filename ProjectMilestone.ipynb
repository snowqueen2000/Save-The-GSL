{
 "cells": [
  {
   "attachments": {},
   "cell_type": "markdown",
   "metadata": {},
   "source": [
    "Team Members <br>\n",
    "<br>\n",
    "Audrey Pohl U0497618 u0497618@utah.edu <br>\n",
    "Clarissa Seebhom U0575630 u0575630@utah.edu <br>\n",
    "Joseph Wirthlin U0936690 u0936690@utah.edu"
   ]
  },
  {
   "attachments": {},
   "cell_type": "markdown",
   "metadata": {},
   "source": [
    "Project Discription <br>\n",
    "\n",
    "This project aims to discover the significance of a variety of factors on the elevation of the Great Salt Lake. Examples of factors are, snowfall, rainfall, industrial water usage, residential water usage, and snow-water equivalent. "
   ]
  }
 ],
 "metadata": {
  "language_info": {
   "name": "python"
  },
  "orig_nbformat": 4
 },
 "nbformat": 4,
 "nbformat_minor": 2
}
