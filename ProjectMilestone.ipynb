{
 "cells": [
  {
   "attachments": {},
   "cell_type": "markdown",
   "metadata": {},
   "source": [
    "# Team Members <br>\n",
    "<br>\n",
    "Audrey Pohl U0497618 u0497618@utah.edu <br>\n",
    "Clarissa Seebhom U0575630 u0575630@utah.edu <br>\n",
    "Joseph Wirthlin U0936690 u0936690@utah.edu"
   ]
  },
  {
   "attachments": {},
   "cell_type": "markdown",
   "metadata": {},
   "source": [
    "# Project Discription <br>\n",
    "\n",
    "This project aims to discover the significance of a variety of factors on the elevation of the Great Salt Lake. Examples of factors are, snowfall, rainfall, industrial water usage, residential water usage, and snow-water equivalent. Each variable can be used to predict the elevation of the GSL. In the end an optimized regressino model will be used to explain the relationship between variables. This project will provide insight on how the state of Utah needs to manage its water to provide water for agriculture, residents, and industry while keeping the lakes full. "
   ]
  },
  {
   "attachments": {},
   "cell_type": "markdown",
   "metadata": {},
   "source": [
    "# Data and Description <br>\n",
    "\n",
    "What"
   ]
  }
 ],
 "metadata": {
  "language_info": {
   "name": "python"
  },
  "orig_nbformat": 4
 },
 "nbformat": 4,
 "nbformat_minor": 2
}
