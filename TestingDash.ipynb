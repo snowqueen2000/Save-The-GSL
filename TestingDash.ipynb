{
 "cells": [
  {
   "cell_type": "code",
   "execution_count": 7,
   "metadata": {},
   "outputs": [],
   "source": [
    "from bokeh.sampledata.autompg import autompg_clean as df\n",
    "import hvplot.pandas\n",
    "import panel as pn\n",
    "\n",
    " # import a bunch of stuff from bokeh\n",
    "from bokeh.io import output_file, show, curdoc\n",
    "from bokeh.layouts import gridplot, column, row\n",
    "from bokeh.plotting import figure, output_file, show\n",
    "from bokeh.transform import factor_cmap\n",
    "from bokeh.models.widgets import Tabs, Panel\n",
    "from bokeh.models import ColumnDataSource, RangeTool, Div, text\n",
    "\n",
    "import json\n",
    "import pandas as pd\n",
    "import numpy as np"
   ]
  },
  {
   "cell_type": "code",
   "execution_count": 8,
   "metadata": {},
   "outputs": [
    {
     "ename": "ModuleNotFoundError",
     "evalue": "No module named 'Regressions'",
     "output_type": "error",
     "traceback": [
      "\u001b[0;31m---------------------------------------------------------------------------\u001b[0m",
      "\u001b[0;31mModuleNotFoundError\u001b[0m                       Traceback (most recent call last)",
      "\u001b[0;32m/var/folders/4p/d_wfb5050kqdpr8kz_rqymwr0000gn/T/ipykernel_89068/185844884.py\u001b[0m in \u001b[0;36m<module>\u001b[0;34m\u001b[0m\n\u001b[1;32m      1\u001b[0m \u001b[0;32mfrom\u001b[0m \u001b[0mdata_process_final\u001b[0m \u001b[0;32mimport\u001b[0m \u001b[0mswe_monthly\u001b[0m\u001b[0;34m,\u001b[0m \u001b[0mprecip_monthly\u001b[0m\u001b[0;34m,\u001b[0m \u001b[0mlk_lvl_monthly\u001b[0m\u001b[0;34m\u001b[0m\u001b[0;34m\u001b[0m\u001b[0m\n\u001b[1;32m      2\u001b[0m \u001b[0;32mfrom\u001b[0m \u001b[0mdata_process_final\u001b[0m \u001b[0;32mimport\u001b[0m \u001b[0mgdp_annual\u001b[0m\u001b[0;34m,\u001b[0m \u001b[0mpop_annual\u001b[0m\u001b[0;34m,\u001b[0m \u001b[0mprecip_annual\u001b[0m\u001b[0;34m,\u001b[0m \u001b[0mlk_lvl_annual\u001b[0m\u001b[0;34m,\u001b[0m \u001b[0mswe_annual\u001b[0m\u001b[0;34m\u001b[0m\u001b[0;34m\u001b[0m\u001b[0m\n\u001b[0;32m----> 3\u001b[0;31m \u001b[0;32mfrom\u001b[0m \u001b[0mRegressions\u001b[0m \u001b[0;32mimport\u001b[0m \u001b[0mfinal_test\u001b[0m\u001b[0;34m\u001b[0m\u001b[0;34m\u001b[0m\u001b[0m\n\u001b[0m\u001b[1;32m      4\u001b[0m \u001b[0;34m\u001b[0m\u001b[0m\n\u001b[1;32m      5\u001b[0m \u001b[0;31m# theme\u001b[0m\u001b[0;34m\u001b[0m\u001b[0;34m\u001b[0m\u001b[0m\n",
      "\u001b[0;31mModuleNotFoundError\u001b[0m: No module named 'Regressions'"
     ]
    }
   ],
   "source": [
    "from data_process_final import swe_monthly, precip_monthly, lk_lvl_monthly\n",
    "from data_process_final import gdp_annual, pop_annual, precip_annual, lk_lvl_annual, swe_annual\n",
    "from Regressions import final_test\n",
    "\n",
    "# theme\n",
    "curdoc().theme = \"light_minimal\"\n",
    "\n",
    "# html output\n",
    "output_file(\"gfg.html\")\n",
    "\n",
    "# plotting lake level (blue)\n",
    "fig1 = figure(title=\"Lake Level\", plot_width=1200, plot_height=300, x_axis_type=\"datetime\")\n",
    "fig1.line(np.array(lk_lvl_annual['date']), lk_lvl_annual['lake_level'], \n",
    "          line_color='blue', line_width=3)\n",
    "fig1.yaxis.axis_label = 'Lake Level [elevation]'\n",
    "\n",
    "# plotting the line graph SWE (purple)\n",
    "fig2 = figure(title=\"Snow Water Equivalent\", plot_width=1200, plot_height=300, x_axis_type=\"datetime\")\n",
    "fig2.line(np.array(swe_annual['date'], dtype=np.datetime64), swe_annual.swe, \n",
    "          line_color='purple', line_width=3)\n",
    "fig2.yaxis.axis_label = 'Snow Water Equivalent [inches]'\n",
    "  \n",
    "# plotting population (red)\n",
    "fig3 = figure(title=\"Population\", plot_width=1200, plot_height=300, x_axis_type=\"datetime\")\n",
    "fig3.line(np.array(pop_annual['date']), pop_annual['population'], \n",
    "          line_color='red', line_width=3)\n",
    "fig3.yaxis.axis_label = 'Population of Utah [people]'\n",
    "\n",
    "# plotting GDP (green bc money)\n",
    "fig4 = figure(title=\"Gross Domestic Product [GDP]\", plot_width=1200, plot_height=300, x_axis_type=\"datetime\")\n",
    "fig4.line(np.array(gdp_annual['date']), gdp_annual['gdp'], \n",
    "          line_color='green', line_width=3)\n",
    "fig4.yaxis.axis_label = 'Dollars [USD]'\n",
    "\n",
    "# plotting precipitation (brown)\n",
    "fig5 = figure(title=\"Precipitation\", plot_width=1200, plot_height=300, x_axis_type=\"datetime\")\n",
    "fig5.line(np.array(precip_annual['date']), precip_annual['precipitation'], \n",
    "          line_color='brown', line_width=3)\n",
    "fig5.yaxis.axis_label = 'Precipitation [inches]'\n",
    "\n",
    "first_reg = sm.ols('lake_level ~ swe', data = final_test).fit()\n",
    "first_reg.summary()\n",
    "fig6 = figure(title=\"Lake Level VS Snow Water Equivalent\", plot_width=1200, plot_height=300)\n",
    "fig6.line(np.array(precip_annual['date']), precip_annual['precipitation'], \n",
    "          line_color='brown', line_width=3)\n",
    "fig5.yaxis.axis_label = 'Precipitation [inches]'\n",
    "\n",
    "# displaying the model\n",
    "show(column(fig1, fig2, fig5, fig3, fig4))\n"
   ]
  }
 ],
 "metadata": {
  "kernelspec": {
   "display_name": "base",
   "language": "python",
   "name": "python3"
  },
  "language_info": {
   "codemirror_mode": {
    "name": "ipython",
    "version": 3
   },
   "file_extension": ".py",
   "mimetype": "text/x-python",
   "name": "python",
   "nbconvert_exporter": "python",
   "pygments_lexer": "ipython3",
   "version": "3.9.13"
  },
  "orig_nbformat": 4
 },
 "nbformat": 4,
 "nbformat_minor": 2
}
